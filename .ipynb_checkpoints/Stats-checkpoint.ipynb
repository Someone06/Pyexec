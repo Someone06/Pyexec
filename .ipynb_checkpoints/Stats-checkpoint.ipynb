{
 "cells": [
  {
   "cell_type": "code",
   "execution_count": 1,
   "metadata": {},
   "outputs": [],
   "source": [
    "%matplotlib inline\n",
    "import pandas as pd\n",
    "from pandas import DataFrame\n",
    "import matplotlib.pyplot as plt\n",
    "import seaborn as sns \n",
    "from scipy.stats import mannwhitneyu as mwu\n",
    "sns.set(style=\"darkgrid\")"
   ]
  },
  {
   "cell_type": "markdown",
   "metadata": {},
   "source": [
    "Please specifiy the location of the CSV file that Pyexec created"
   ]
  },
  {
   "cell_type": "code",
   "execution_count": 11,
   "metadata": {},
   "outputs": [
    {
     "name": "stdout",
     "output_type": "stream",
     "text": [
      "<class 'pandas.core.frame.DataFrame'>\n",
      "RangeIndex: 3 entries, 0 to 2\n",
      "Data columns (total 32 columns):\n",
      " #   Column                     Non-Null Count  Dtype  \n",
      "---  ------                     --------------  -----  \n",
      " 0   Unnamed: 0                 3 non-null      int64  \n",
      " 1   name                       3 non-null      object \n",
      " 2   project_on_pypi            3 non-null      bool   \n",
      " 3   github_link_found          3 non-null      bool   \n",
      " 4   github_repo_exists         3 non-null      bool   \n",
      " 5   github_repo_created_at     3 non-null      object \n",
      " 6   github_repo_last_updated   3 non-null      object \n",
      " 7   has_requirementstxt        3 non-null      bool   \n",
      " 8   has_makefile               3 non-null      bool   \n",
      " 9   has_pipfile                3 non-null      bool   \n",
      " 10  loc                        2 non-null      float64\n",
      " 11  average_complexity         2 non-null      float64\n",
      " 12  min_python_version         2 non-null      float64\n",
      " 13  dockerfile_found           3 non-null      bool   \n",
      " 14  dockerfile_source_is_v2    3 non-null      bool   \n",
      " 15  dockerimage_build_success  3 non-null      bool   \n",
      " 16  testcase_count             2 non-null      float64\n",
      " 17  testsuit_executed          3 non-null      bool   \n",
      " 18  testsuit_result_parsed     3 non-null      bool   \n",
      " 19  failed                     2 non-null      float64\n",
      " 20  passed                     2 non-null      float64\n",
      " 21  skipped                    2 non-null      float64\n",
      " 22  xfailed                    2 non-null      float64\n",
      " 23  xpassed                    2 non-null      float64\n",
      " 24  warnings                   2 non-null      float64\n",
      " 25  errors                     2 non-null      float64\n",
      " 26  time                       2 non-null      float64\n",
      " 27  covered_lines              2 non-null      float64\n",
      " 28  num_statements             2 non-null      float64\n",
      " 29  percentage_covered         2 non-null      float64\n",
      " 30  missing_lines              2 non-null      float64\n",
      " 31  excluded_lines             2 non-null      float64\n",
      "dtypes: bool(11), float64(17), int64(1), object(3)\n",
      "memory usage: 665.0+ bytes\n",
      "None\n",
      "0    165.0\n",
      "1    248.0\n",
      "2      NaN\n",
      "Name: loc, dtype: float64\n"
     ]
    }
   ],
   "source": [
    "data = pd.read_csv(\"/home/michael/pyexec-output/20200911-113129/stats.csv\")\n",
    "data = data.replace([-1], pd.NA)\n",
    "print(data.info())\n",
    "print(data[\"loc\"])"
   ]
  },
  {
   "cell_type": "markdown",
   "metadata": {},
   "source": [
    "# Basic stats\n",
    "Total number of times a project has reached some stage.\n",
    "Good to have as a sanity-check."
   ]
  },
  {
   "cell_type": "code",
   "execution_count": 17,
   "metadata": {},
   "outputs": [
    {
     "name": "stdout",
     "output_type": "stream",
     "text": [
      "Attempted: 3\n",
      "Found on PyPI: 3:\n",
      "GitHub link found: 3\n",
      "GitHub link is valid: 2\n",
      "Mined: 2\n",
      "Dockerimage inferred: 2\n",
      "Dockerimage build success: 2\n",
      "Testsuits executed: 2\n",
      "Testcases executed and parsed: 2\n"
     ]
    }
   ],
   "source": [
    "def pypi() -> DataFrame:\n",
    "    return data[data[\"project_on_pypi\"]]\n",
    "def link() -> DataFrame:\n",
    "    return data[data[\"github_link_found\"]]\n",
    "def exists() -> DataFrame:\n",
    "    return data[data[\"github_repo_exists\"]]\n",
    "def mined() -> DataFrame:\n",
    "    return data[data[\"github_repo_exists\"]]\n",
    "def inferred() -> DataFrame:\n",
    "    return data[data[\"dockerfile_found\"]]\n",
    "def build(*, complement=False) -> DataFrame:\n",
    "    return data[data[\"dockerimage_build_success\"] != complement]\n",
    "def build_and_testsuit() -> DataFrame:\n",
    "    return build()[build()[\"testcase_count\"] > 0]\n",
    "def executed(*, complement=False) -> DataFrame:\n",
    "    return data[data[\"testsuit_executed\"] != complement]\n",
    "def success(*, complement=False) -> DataFrame:\n",
    "    return data[data[\"testsuit_result_parsed\"] != complement]\n",
    "\n",
    "print(\"Attempted: {}\".format(len(data)))\n",
    "print(\"Found on PyPI: {}:\".format(len(pypi())))\n",
    "print(\"GitHub link found: {}\".format(len(link())))\n",
    "print(\"GitHub link is valid: {}\".format(len(exists())))\n",
    "print(\"Mined: {}\".format(len(mined())))\n",
    "print(\"Dockerimage inferred: {}\".format(len(inferred())))\n",
    "print(\"Dockerimage build success: {}\".format(len(build())))\n",
    "print(\"Testsuits executed: {}\".format(len(executed())))\n",
    "print(\"Testcases executed and parsed: {}\".format(len(success())))"
   ]
  },
  {
   "cell_type": "markdown",
   "metadata": {},
   "source": [
    "# RQ1: Fraction of projects for which an environment is inferred\n",
    "Based on the number of project for which a GitHub link has been found and which cound be cloned.\n",
    "Only projects for which a dockerfile has been inferred and for which a dockerimage was build successfully are counted here."
   ]
  },
  {
   "cell_type": "code",
   "execution_count": 4,
   "metadata": {},
   "outputs": [
    {
     "name": "stdout",
     "output_type": "stream",
     "text": [
      "100.0%\n"
     ]
    }
   ],
   "source": [
    "print(\"{}%\".format(len(build()) / len(mined()) * 100))"
   ]
  },
  {
   "cell_type": "markdown",
   "metadata": {},
   "source": [
    "# RQ2: Fraction of projects for which the testcases could be executed\n",
    "Based on the number of projects for which a dockerimage could be build"
   ]
  },
  {
   "cell_type": "code",
   "execution_count": 5,
   "metadata": {},
   "outputs": [
    {
     "name": "stdout",
     "output_type": "stream",
     "text": [
      "Fraction of projects for which a testsuit was detected: 100.0%\n",
      "Fraction of projects for which a testsuit was executed: 100.0%\n",
      "Fraction of projects for which testsuit execution was successful: 100.0%\n"
     ]
    }
   ],
   "source": [
    "print(\"Fraction of projects for which a testsuit was detected: {}%\".format(len(build_and_testsuit()) / len(executed()) * 100))\n",
    "print(\"Fraction of projects for which a testsuit was executed: {}%\".format(len(executed()) / len(build()) * 100))\n",
    "print(\"Fraction of projects for which testsuit execution was successful: {}%\".format(len(success()) / len(build()) * 100))"
   ]
  },
  {
   "cell_type": "markdown",
   "metadata": {},
   "source": [
    "So the fraction of successful testcase executions to all testsuit executions is:"
   ]
  },
  {
   "cell_type": "code",
   "execution_count": 6,
   "metadata": {},
   "outputs": [
    {
     "name": "stdout",
     "output_type": "stream",
     "text": [
      "\t100.0%\n"
     ]
    }
   ],
   "source": [
    "print(\"\\t{}%\".format(len(success()) / len(executed()) * 100))"
   ]
  },
  {
   "cell_type": "markdown",
   "metadata": {},
   "source": [
    "# RQ3 Representativness of project for which a environment has been found"
   ]
  },
  {
   "cell_type": "markdown",
   "metadata": {},
   "source": [
    "First the distribtutions for lines of code (LOC), average cyclomatic complexity and minmum required Python version for all mined project"
   ]
  },
  {
   "cell_type": "code",
   "execution_count": 7,
   "metadata": {},
   "outputs": [
    {
     "data": {
      "text/plain": [
       "<seaborn.axisgrid.FacetGrid at 0x7fe2cd4cf8b0>"
      ]
     },
     "execution_count": 7,
     "metadata": {},
     "output_type": "execute_result"
    },
    {
     "data": {
      "image/png": "[encoded data removed]",
      "text/plain": [
       "<Figure size 360x360 with 1 Axes>"
      ]
     },
     "metadata": {},
     "output_type": "display_data"
    },
    {
     "data": {
      "image/png": "[encoded data removed]",
      "text/plain": [
       "<Figure size 360x360 with 1 Axes>"
      ]
     },
     "metadata": {},
     "output_type": "display_data"
    },
    {
     "data": {
      "image/png": "[encoded data removed]",
      "text/plain": [
       "<Figure size 360x360 with 1 Axes>"
      ]
     },
     "metadata": {},
     "output_type": "display_data"
    }
   ],
   "source": [
    "sns.displot(mined(), discrete=True, x=\"loc\")\n",
    "sns.displot(mined(), discrete=True, x=\"average_complexity\")\n",
    "sns.displot(mined(), discrete=True, x=\"min_python_version\")\n"
   ]
  },
  {
   "cell_type": "markdown",
   "metadata": {},
   "source": [
    "Now the same for all project for which a dockerimage could be build"
   ]
  },
  {
   "cell_type": "code",
   "execution_count": 8,
   "metadata": {},
   "outputs": [
    {
     "data": {
      "text/plain": [
       "<seaborn.axisgrid.FacetGrid at 0x7fe2cd3c0af0>"
      ]
     },
     "execution_count": 8,
     "metadata": {},
     "output_type": "execute_result"
    },
    {
     "data": {
      "image/png": "[encoded data removed]",
      "text/plain": [
       "<Figure size 360x360 with 1 Axes>"
      ]
     },
     "metadata": {},
     "output_type": "display_data"
    },
    {
     "data": {
      "image/png": "[encoded data removed]",
      "text/plain": [
       "<Figure size 360x360 with 1 Axes>"
      ]
     },
     "metadata": {},
     "output_type": "display_data"
    },
    {
     "data": {
      "image/png": "[encoded data removed]",
      "text/plain": [
       "<Figure size 360x360 with 1 Axes>"
      ]
     },
     "metadata": {},
     "output_type": "display_data"
    }
   ],
   "source": [
    "sns.displot(build(), discrete=True, x=\"loc\")\n",
    "sns.displot(build(), discrete=True, x=\"average_complexity\")\n",
    "sns.displot(build(), discrete=True, x=\"min_python_version\")"
   ]
  },
  {
   "cell_type": "markdown",
   "metadata": {},
   "source": [
    "Lets have a look at the resuls of the Mann-Whitney U-Test for these three variables"
   ]
  },
  {
   "cell_type": "code",
   "execution_count": 19,
   "metadata": {},
   "outputs": [
    {
     "name": "stdout",
     "output_type": "stream",
     "text": [
      "LOC p-value: 0.0\n",
      "Complexity p-value: 0.0\n",
      "Version p-value: 0.0\n"
     ]
    },
    {
     "name": "stderr",
     "output_type": "stream",
     "text": [
      "/home/michael/.local/share/virtualenvs/pyexec-rEz73fpI/lib/python3.8/site-packages/scipy/stats/stats.py:7028: RuntimeWarning: divide by zero encountered in double_scalars\n",
      "  z = (bigu - meanrank) / sd\n",
      "/home/michael/.local/share/virtualenvs/pyexec-rEz73fpI/lib/python3.8/site-packages/scipy/stats/stats.py:7028: RuntimeWarning: divide by zero encountered in double_scalars\n",
      "  z = (bigu - meanrank) / sd\n",
      "/home/michael/.local/share/virtualenvs/pyexec-rEz73fpI/lib/python3.8/site-packages/scipy/stats/stats.py:7028: RuntimeWarning: divide by zero encountered in double_scalars\n",
      "  z = (bigu - meanrank) / sd\n"
     ]
    }
   ],
   "source": [
    "\n",
    "print(\"LOC p-value: {}\".format(mwu(build(complement=True)[\"loc\"].dropna(), build()[\"loc\"].dropna(), alternative=\"two-sided\")[1]))\n",
    "print(\"Complexity p-value: {}\".format(mwu(build(complement=True)[\"average_complexity\"].dropna(), build()[\"average_complexity\"].dropna(), alternative=\"two-sided\")[1]))\n",
    "print(\"Version p-value: {}\".format(mwu(build(complement=True)[\"min_python_version\"].dropna(), build()[\"min_python_version\"].dropna(), alternative=\"two-sided\")[1]))"
   ]
  }
 ],
 "metadata": {
  "kernelspec": {
   "display_name": "Python 3",
   "language": "python",
   "name": "python3"
  },
  "language_info": {
   "codemirror_mode": {
    "name": "ipython",
    "version": 3
   },
   "file_extension": ".py",
   "mimetype": "text/x-python",
   "name": "python",
   "nbconvert_exporter": "python",
   "pygments_lexer": "ipython3",
   "version": "3.8.2"
  }
 },
 "nbformat": 4,
 "nbformat_minor": 4
}
